{
 "cells": [
  {
   "cell_type": "code",
   "execution_count": null,
   "metadata": {},
   "outputs": [],
   "source": [
    "project_path = \"/media/vijinim/data/Experiments/Data/FUDAN/Uniprot-12/\""
   ]
  },
  {
   "cell_type": "code",
   "execution_count": null,
   "metadata": {},
   "outputs": [],
   "source": [
    "import re\n",
    "import xlsxwriter\n",
    "import collections\n",
    "\n",
    "from Bio import SeqIO"
   ]
  },
  {
   "cell_type": "code",
   "execution_count": null,
   "metadata": {},
   "outputs": [],
   "source": [
    "contig_lengths = {}\n",
    "\n",
    "for index, record in enumerate(SeqIO.parse(project_path+\"all_genes.fna\", \"fasta\")):\n",
    "    gene_id = record.id.strip().split(\"|\")[0]\n",
    "    contig_lengths[gene_id] = len(record.seq)"
   ]
  },
  {
   "cell_type": "markdown",
   "metadata": {},
   "source": [
    "# Get kraken result"
   ]
  },
  {
   "cell_type": "code",
   "execution_count": null,
   "metadata": {},
   "outputs": [],
   "source": [
    "species_len = {}\n",
    "\n",
    "unclassified = []\n",
    "\n",
    "taxid_contigs = {}\n",
    "\n",
    "annotated = 0\n",
    "\n",
    "with open(project_path+\"MEGAHIT_new_genes_kraken_res_0.1.txt\", \"r\") as myfile:\n",
    "    for line in myfile.readlines():\n",
    "        strings = line.strip().split(\"\\t\")\n",
    "        \n",
    "        gene_id = strings[1].strip().split(\"|\")[0]\n",
    "        \n",
    "        if strings[0] == \"C\":\n",
    "            \n",
    "            species_strings = strings[2].split(\" \")\n",
    "            \n",
    "            if len(species_strings) > 3 and \"cellular organisms\" not in strings[2]:\n",
    "                \n",
    "                annotated += 1\n",
    "                \n",
    "                taxid = species_strings[-1][:-1]\n",
    "                \n",
    "                if taxid not in taxid_contigs:\n",
    "                    taxid_contigs[taxid] = [gene_id]\n",
    "                else:\n",
    "                    taxid_contigs[taxid].append(gene_id)\n",
    "            \n",
    "            if strings[2] not in species_len:\n",
    "                species_len[strings[2]] = contig_lengths[gene_id]\n",
    "            else:\n",
    "                species_len[strings[2]] += contig_lengths[gene_id]\n",
    "                \n",
    "        else:\n",
    "            unclassified.append(gene_id)"
   ]
  },
  {
   "cell_type": "code",
   "execution_count": null,
   "metadata": {},
   "outputs": [],
   "source": [
    "print(\"Total number of genes:\", len(contig_lengths))\n",
    "print(\"Number of annotated genes:\", annotated)\n",
    "print(\"Number of taxa:\", len(species_len))"
   ]
  },
  {
   "cell_type": "code",
   "execution_count": null,
   "metadata": {},
   "outputs": [],
   "source": [
    "sorted_species = {k: v for k, v in sorted(species_len.items(), reverse=True, key=lambda item: item[1])}\n",
    "\n",
    "species_list = []\n",
    "values_list = []\n",
    "taxid_list = []\n",
    "\n",
    "taxid_species = {}\n",
    "taxid_total_len = {}\n",
    "\n",
    "annotated_genes = []\n",
    "\n",
    "for key, value in sorted_species.items():\n",
    "    key_strings = key.split(\" \")\n",
    "    \n",
    "    if len(key_strings) > 3 and \"cellular organisms\" not in key:\n",
    "        \n",
    "        taxid = key_strings[-1][:-1]\n",
    "        \n",
    "        species_name = key.split(\" (taxid \")[0]\n",
    "        \n",
    "        if taxid not in taxid_list:\n",
    "            taxid_list.append(taxid)\n",
    "            \n",
    "        if taxid not in taxid_species:\n",
    "            taxid_species[taxid] = species_name\n",
    "            \n",
    "        if taxid not in taxid_total_len:\n",
    "            taxid_total_len[taxid] = value\n",
    "            \n",
    "        annotated_genes += taxid_contigs[taxid]\n",
    "        \n",
    "        species_list.append(species_name)\n",
    "        values_list.append(value)\n",
    "        print(species_name, value)\n",
    "\n",
    "print(len(species_list))"
   ]
  },
  {
   "cell_type": "code",
   "execution_count": null,
   "metadata": {},
   "outputs": [],
   "source": [
    "print(\"Total number of genes:\", len(contig_lengths))\n",
    "print(\"Number of annotated genes upto species level:\", len(annotated_genes))\n",
    "print(len(annotated_genes)/len(contig_lengths))"
   ]
  },
  {
   "cell_type": "code",
   "execution_count": null,
   "metadata": {},
   "outputs": [],
   "source": [
    "annotated = 0\n",
    "\n",
    "for taxid in taxid_list:\n",
    "    annotated += len(taxid_contigs[taxid])\n",
    "print(annotated)"
   ]
  },
  {
   "cell_type": "code",
   "execution_count": null,
   "metadata": {},
   "outputs": [],
   "source": [
    "gene_species = {\"GeneID\":\"Annotation\"}\n",
    "\n",
    "for taxid in taxid_list:\n",
    "    \n",
    "    for gene_id in taxid_contigs[taxid]:\n",
    "\n",
    "        gene_species[gene_id] = \"[\"+taxid_species[taxid]+\"]\"\n",
    "            \n",
    "            \n",
    "for gene_id in contig_lengths:\n",
    "    if gene_id not in annotated_genes:\n",
    "        gene_species[gene_id] = \"-\""
   ]
  },
  {
   "cell_type": "markdown",
   "metadata": {},
   "source": [
    "# Save result"
   ]
  },
  {
   "cell_type": "code",
   "execution_count": null,
   "metadata": {},
   "outputs": [],
   "source": [
    "od = collections.OrderedDict(sorted(gene_species.items()))\n",
    "\n",
    "# Create a workbook and add a worksheet.\n",
    "workbook = xlsxwriter.Workbook(project_path+\"MEGAHIT_new/genes.species.kraken.xlsx\")\n",
    "worksheet = workbook.add_worksheet()\n",
    "\n",
    "# Start from the first cell. Rows and columns are zero indexed.\n",
    "row = 0\n",
    "col = 0\n",
    "\n",
    "print(len(od.items()))\n",
    "\n",
    "# Iterate over the data and write it out row by row.\n",
    "for gene, species in od.items():\n",
    "    worksheet.write(row, col,     gene)\n",
    "    worksheet.write(row, col + 1, species)\n",
    "    row += 1\n",
    "    \n",
    "workbook.close()"
   ]
  }
 ],
 "metadata": {
  "kernelspec": {
   "display_name": "Python 3",
   "language": "python",
   "name": "python3"
  },
  "language_info": {
   "codemirror_mode": {
    "name": "ipython",
    "version": 3
   },
   "file_extension": ".py",
   "mimetype": "text/x-python",
   "name": "python",
   "nbconvert_exporter": "python",
   "pygments_lexer": "ipython3",
   "version": "3.8.8"
  }
 },
 "nbformat": 4,
 "nbformat_minor": 2
}
